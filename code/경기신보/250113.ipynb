{
 "cells": [
  {
   "cell_type": "code",
   "execution_count": 4,
   "metadata": {},
   "outputs": [
    {
     "name": "stderr",
     "output_type": "stream",
     "text": [
      "C:\\Users\\32200812\\AppData\\Local\\Temp\\ipykernel_19652\\3800772468.py:2: DtypeWarning: Columns (12,29) have mixed types. Specify dtype option on import or set low_memory=False.\n",
      "  g_24_12 = pd.read_csv('../../bigfile/경기_(2024.12월말기준)_전국공장등록현황.csv')\n"
     ]
    }
   ],
   "source": [
    "import pandas as pd\n",
    "g_24_12 = pd.read_csv('../../bigfile/경기_(2024.12월말기준)_전국공장등록현황.csv')"
   ]
  },
  {
   "cell_type": "code",
   "execution_count": 7,
   "metadata": {},
   "outputs": [
    {
     "data": {
      "text/plain": [
       "Index(['시도명', '시군구명', '관리기관', '회사명', '공장구분', '단지명', '설립구분', '입주형태', '보유구분',\n",
       "       '최초승인일', '최초등록일', '등록구분', '등록일', '전화번호', '남자종업원', '여자종업원', '외국인남자종업원',\n",
       "       '외국인여자종업원', '종업원합계', '생산품', '원자재', '공장규모', '용도지역', '지목', '용지면적',\n",
       "       '제조시설면적', '부대시설면적', '건축면적', '지식산업센터명', '대표업종', '업종명', '업종코드', '차수',\n",
       "       '법인주소', '필지수', '공장주소', '공장주소_지번', '공장관리번호'],\n",
       "      dtype='object')"
      ]
     },
     "execution_count": 7,
     "metadata": {},
     "output_type": "execute_result"
    }
   ],
   "source": [
    "g_24_12['시군구명'].value_counts()\n",
    "g_24_12.columns\n",
    "print(g_24_12['설립구분'].value_counts())\n",
    "print(g_24_12['공장구분'].value_counts())"
   ]
  },
  {
   "cell_type": "code",
   "execution_count": 17,
   "metadata": {},
   "outputs": [],
   "source": [
    "import pandas as pd\n",
    "df24_12 = pd.read_excel('../../bigfile/(2024.12월말기준)_전국공장등록현황.xlsx')\n",
    "\n",
    "df24_12['시도명'] = df24_12['시도명'].replace('강원도', '강원특별자치도')\n",
    "df24_12['시도명'] = df24_12['시도명'].replace('제주도', '제주특별자치도')\n",
    "df24_12 = df24_12[df24_12['시도명'] != ' ']"
   ]
  },
  {
   "cell_type": "code",
   "execution_count": null,
   "metadata": {},
   "outputs": [],
   "source": []
  }
 ],
 "metadata": {
  "kernelspec": {
   "display_name": "base",
   "language": "python",
   "name": "python3"
  },
  "language_info": {
   "codemirror_mode": {
    "name": "ipython",
    "version": 3
   },
   "file_extension": ".py",
   "mimetype": "text/x-python",
   "name": "python",
   "nbconvert_exporter": "python",
   "pygments_lexer": "ipython3",
   "version": "3.11.7"
  }
 },
 "nbformat": 4,
 "nbformat_minor": 2
}
