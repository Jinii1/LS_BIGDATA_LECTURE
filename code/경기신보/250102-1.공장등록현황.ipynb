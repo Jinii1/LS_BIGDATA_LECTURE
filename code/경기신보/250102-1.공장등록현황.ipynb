{
 "cells": [
  {
   "cell_type": "markdown",
   "metadata": {},
   "source": [
    "## 표1. 2024년 11월 말 기준 데이터"
   ]
  },
  {
   "cell_type": "code",
   "execution_count": 35,
   "metadata": {},
   "outputs": [],
   "source": [
    "import pandas as pd\n",
    "df1 = pd.read_excel('../../bigfile/(2024.11월말기준)_전국공장등록현황.xlsx')"
   ]
  },
  {
   "cell_type": "markdown",
   "metadata": {},
   "source": [
    "### 전처리"
   ]
  },
  {
   "cell_type": "code",
   "execution_count": 45,
   "metadata": {},
   "outputs": [
    {
     "data": {
      "text/html": [
       "<div>\n",
       "<style scoped>\n",
       "    .dataframe tbody tr th:only-of-type {\n",
       "        vertical-align: middle;\n",
       "    }\n",
       "\n",
       "    .dataframe tbody tr th {\n",
       "        vertical-align: top;\n",
       "    }\n",
       "\n",
       "    .dataframe thead th {\n",
       "        text-align: right;\n",
       "    }\n",
       "</style>\n",
       "<table border=\"1\" class=\"dataframe\">\n",
       "  <thead>\n",
       "    <tr style=\"text-align: right;\">\n",
       "      <th></th>\n",
       "      <th>시도명</th>\n",
       "      <th>시군구명</th>\n",
       "      <th>관리기관</th>\n",
       "      <th>회사명</th>\n",
       "      <th>공장구분</th>\n",
       "      <th>단지명</th>\n",
       "      <th>설립구분</th>\n",
       "      <th>입주형태</th>\n",
       "      <th>보유구분</th>\n",
       "      <th>최초승인일</th>\n",
       "      <th>...</th>\n",
       "      <th>지식산업센터명</th>\n",
       "      <th>대표업종</th>\n",
       "      <th>업종명</th>\n",
       "      <th>업종코드</th>\n",
       "      <th>차수</th>\n",
       "      <th>법인주소</th>\n",
       "      <th>필지수</th>\n",
       "      <th>공장주소</th>\n",
       "      <th>공장주소_지번</th>\n",
       "      <th>공장관리번호</th>\n",
       "    </tr>\n",
       "  </thead>\n",
       "  <tbody>\n",
       "    <tr>\n",
       "      <th>0</th>\n",
       "      <td>서울특별시</td>\n",
       "      <td>종로구</td>\n",
       "      <td>서울특별시 종로구</td>\n",
       "      <td>남일문화 (주)</td>\n",
       "      <td>개별입지</td>\n",
       "      <td></td>\n",
       "      <td>일반</td>\n",
       "      <td>해당없음</td>\n",
       "      <td>임대</td>\n",
       "      <td></td>\n",
       "      <td>...</td>\n",
       "      <td></td>\n",
       "      <td>18111</td>\n",
       "      <td>경 인쇄업 외 2 종</td>\n",
       "      <td>18111, 18113, 18119</td>\n",
       "      <td>10</td>\n",
       "      <td></td>\n",
       "      <td>1</td>\n",
       "      <td>서울특별시 종로구 자하문로16길 8 (창성동)</td>\n",
       "      <td>서울특별시 종로구 창성동 87-1번지</td>\n",
       "      <td>111102005091210</td>\n",
       "    </tr>\n",
       "    <tr>\n",
       "      <th>1</th>\n",
       "      <td>서울특별시</td>\n",
       "      <td>종로구</td>\n",
       "      <td>서울특별시 종로구</td>\n",
       "      <td>(주)에취.알.디</td>\n",
       "      <td>개별입지</td>\n",
       "      <td></td>\n",
       "      <td>일반</td>\n",
       "      <td>해당없음</td>\n",
       "      <td>임대</td>\n",
       "      <td>19980101</td>\n",
       "      <td>...</td>\n",
       "      <td></td>\n",
       "      <td>33932</td>\n",
       "      <td>전시용 모형 제조업</td>\n",
       "      <td>33932</td>\n",
       "      <td>10</td>\n",
       "      <td></td>\n",
       "      <td>1</td>\n",
       "      <td>서울특별시 종로구 통의동 35-69번지</td>\n",
       "      <td>서울특별시 종로구 통의동 35-69번지</td>\n",
       "      <td>111100000000003</td>\n",
       "    </tr>\n",
       "    <tr>\n",
       "      <th>2</th>\n",
       "      <td>서울특별시</td>\n",
       "      <td>종로구</td>\n",
       "      <td>서울특별시 종로구</td>\n",
       "      <td>(주)코리아쉬핑가제트</td>\n",
       "      <td>개별입지</td>\n",
       "      <td></td>\n",
       "      <td>일반</td>\n",
       "      <td>해당없음</td>\n",
       "      <td>자가</td>\n",
       "      <td>19980101</td>\n",
       "      <td>...</td>\n",
       "      <td></td>\n",
       "      <td>58113</td>\n",
       "      <td>일반 서적 출판업 외 3 종</td>\n",
       "      <td>18111, 18113, 18119, 58113</td>\n",
       "      <td>10</td>\n",
       "      <td></td>\n",
       "      <td>1</td>\n",
       "      <td>서울특별시 종로구 자하문로2길 13-3 (통의동)</td>\n",
       "      <td>서울특별시 종로구 통의동 35-6번지</td>\n",
       "      <td>111100000000002</td>\n",
       "    </tr>\n",
       "    <tr>\n",
       "      <th>3</th>\n",
       "      <td>서울특별시</td>\n",
       "      <td>종로구</td>\n",
       "      <td>서울특별시 종로구</td>\n",
       "      <td>삼영DP</td>\n",
       "      <td>개별입지</td>\n",
       "      <td></td>\n",
       "      <td>일반</td>\n",
       "      <td>해당없음</td>\n",
       "      <td>임대</td>\n",
       "      <td></td>\n",
       "      <td>...</td>\n",
       "      <td></td>\n",
       "      <td>18111</td>\n",
       "      <td>경 인쇄업 외 2 종</td>\n",
       "      <td>18111, 18113, 18119</td>\n",
       "      <td>10</td>\n",
       "      <td></td>\n",
       "      <td>1</td>\n",
       "      <td>서울특별시 종로구 사직로 125 (적선동)</td>\n",
       "      <td>서울특별시 종로구 적선동 107-1번지</td>\n",
       "      <td>111102006110167</td>\n",
       "    </tr>\n",
       "    <tr>\n",
       "      <th>4</th>\n",
       "      <td>서울특별시</td>\n",
       "      <td>종로구</td>\n",
       "      <td>서울특별시 종로구</td>\n",
       "      <td>중앙인쇄사</td>\n",
       "      <td>개별입지</td>\n",
       "      <td></td>\n",
       "      <td>일반</td>\n",
       "      <td>해당없음</td>\n",
       "      <td>임대</td>\n",
       "      <td>19980101</td>\n",
       "      <td>...</td>\n",
       "      <td></td>\n",
       "      <td>18119</td>\n",
       "      <td>기타 인쇄업 외 1 종</td>\n",
       "      <td>18113, 18119</td>\n",
       "      <td>10</td>\n",
       "      <td></td>\n",
       "      <td>1</td>\n",
       "      <td>서울특별시 종로구 자하문로2길 18 (적선동)</td>\n",
       "      <td>서울특별시 종로구 적선동 20-0번지</td>\n",
       "      <td>111100000000005</td>\n",
       "    </tr>\n",
       "  </tbody>\n",
       "</table>\n",
       "<p>5 rows × 38 columns</p>\n",
       "</div>"
      ],
      "text/plain": [
       "     시도명 시군구명       관리기관          회사명  공장구분 단지명 설립구분  입주형태 보유구분     최초승인일  \\\n",
       "0  서울특별시  종로구  서울특별시 종로구     남일문화 (주)  개별입지       일반  해당없음   임대             \n",
       "1  서울특별시  종로구  서울특별시 종로구    (주)에취.알.디  개별입지       일반  해당없음   임대  19980101   \n",
       "2  서울특별시  종로구  서울특별시 종로구  (주)코리아쉬핑가제트  개별입지       일반  해당없음   자가  19980101   \n",
       "3  서울특별시  종로구  서울특별시 종로구         삼영DP  개별입지       일반  해당없음   임대             \n",
       "4  서울특별시  종로구  서울특별시 종로구        중앙인쇄사  개별입지       일반  해당없음   임대  19980101   \n",
       "\n",
       "   ... 지식산업센터명   대표업종              업종명                        업종코드  차수  법인주소  \\\n",
       "0  ...          18111      경 인쇄업 외 2 종         18111, 18113, 18119  10         \n",
       "1  ...          33932       전시용 모형 제조업                       33932  10         \n",
       "2  ...          58113  일반 서적 출판업 외 3 종  18111, 18113, 18119, 58113  10         \n",
       "3  ...          18111      경 인쇄업 외 2 종         18111, 18113, 18119  10         \n",
       "4  ...          18119     기타 인쇄업 외 1 종                18113, 18119  10         \n",
       "\n",
       "   필지수                         공장주소                공장주소_지번           공장관리번호  \n",
       "0    1    서울특별시 종로구 자하문로16길 8 (창성동)   서울특별시 종로구 창성동 87-1번지  111102005091210  \n",
       "1    1        서울특별시 종로구 통의동 35-69번지  서울특별시 종로구 통의동 35-69번지  111100000000003  \n",
       "2    1  서울특별시 종로구 자하문로2길 13-3 (통의동)  서울특별시 종로구 통의동 35-6번지   111100000000002  \n",
       "3    1      서울특별시 종로구 사직로 125 (적선동)  서울특별시 종로구 적선동 107-1번지  111102006110167  \n",
       "4    1    서울특별시 종로구 자하문로2길 18 (적선동)  서울특별시 종로구 적선동 20-0번지   111100000000005  \n",
       "\n",
       "[5 rows x 38 columns]"
      ]
     },
     "execution_count": 45,
     "metadata": {},
     "output_type": "execute_result"
    }
   ],
   "source": [
    "df1.shape # (216864, 38)\n",
    "\n",
    "# 지역명 전처리\n",
    "# 강원도 + 강원특별자치도 -> 강원특별자치도\n",
    "# 제주도 + 제주특별자치도 -> 제주특별자치도\n",
    "\n",
    "df1['시도명'] = df1['시도명'].replace('강원도', '강원특별자치도')\n",
    "df1['시도명'] = df1['시도명'].replace('제주도', '제주특별자치도')\n",
    "\n",
    "df1['시도명'].unique()\n",
    "# ['서울특별시', '부산광역시', ' ', '대구광역시', '인천광역시', '광주광역시', '대전광역시', '울산광역시',\n",
    "#        '세종특별자치시', '경기도', '강원특별자치도', '충청북도', '충청남도', '전라남도', '경상북도',\n",
    "#        '경상남도', '제주특별자치도', '전북특별자치도']\n",
    "\n",
    "# '시도명'이 빈 문자열인 데이터 제거 (9개)\n",
    "df1 = df1[df1['시도명'] != ' ']\n",
    "\n",
    "df1.shape # (216855, 38)\n",
    "df1.head()"
   ]
  },
  {
   "cell_type": "markdown",
   "metadata": {},
   "source": [
    "### 표1. 시도별 공장등록수"
   ]
  },
  {
   "cell_type": "code",
   "execution_count": 47,
   "metadata": {},
   "outputs": [
    {
     "name": "stdout",
     "output_type": "stream",
     "text": [
      "시도명\n",
      "경기도        77787\n",
      "경상남도       20566\n",
      "경상북도       16428\n",
      "인천광역시      14050\n",
      "충청남도       12228\n",
      "서울특별시      11432\n",
      "부산광역시      11225\n",
      "충청북도       10126\n",
      "대구광역시       8930\n",
      "전라남도        8203\n",
      "전북특별자치도     7900\n",
      "광주광역시       4855\n",
      "강원특별자치도     4241\n",
      "대전광역시       4030\n",
      "울산광역시       3202\n",
      "세종특별자치시      881\n",
      "제주특별자치도      771\n",
      "Name: count, dtype: int64\n",
      "시도명\n",
      "경기도       35.8705\n",
      "경상남도       9.4838\n",
      "경상북도       7.5756\n",
      "인천광역시      6.4790\n",
      "충청남도       5.6388\n",
      "서울특별시      5.2717\n",
      "부산광역시      5.1763\n",
      "충청북도       4.6695\n",
      "대구광역시      4.1180\n",
      "전라남도       3.7827\n",
      "전북특별자치도    3.6430\n",
      "광주광역시      2.2388\n",
      "강원특별자치도    1.9557\n",
      "대전광역시      1.8584\n",
      "울산광역시      1.4766\n",
      "세종특별자치시    0.4063\n",
      "제주특별자치도    0.3555\n",
      "Name: count, dtype: float64\n"
     ]
    }
   ],
   "source": [
    "## 시도명별 공장 등록수 갯수\n",
    "factory_counts = df1['시도명'].value_counts()\n",
    "print(factory_counts)\n",
    "\n",
    "## 시도명별 공장 등록수 비중\n",
    "total_factories = factory_counts.sum() # 전체 공장 등록 수\n",
    "factory_percentage = (factory_counts / total_factories) * 100 # 시도별 비중 계산\n",
    "print(factory_percentage)"
   ]
  },
  {
   "cell_type": "markdown",
   "metadata": {},
   "source": [
    "### 표1. 공장등록면적 ('용지면적' 컬럼 사용)"
   ]
  },
  {
   "cell_type": "code",
   "execution_count": null,
   "metadata": {},
   "outputs": [
    {
     "name": "stdout",
     "output_type": "stream",
     "text": [
      "시도명\n",
      "강원특별자치도    23444681.6040\n",
      "경기도       193408451.9780\n",
      "경상남도       98121492.7000\n",
      "경상북도      108065920.2370\n",
      "광주광역시      18681658.0840\n",
      "대구광역시      22168850.3470\n",
      "대전광역시      12517368.9860\n",
      "부산광역시      30459909.3830\n",
      "서울특별시       3287677.6120\n",
      "세종특별자치시     6742504.2610\n",
      "울산광역시      53479438.0600\n",
      "인천광역시      23207940.1860\n",
      "전라남도       83141061.2770\n",
      "전북특별자치도    56483163.2900\n",
      "제주특별자치도     2962364.4900\n",
      "충청남도      112198435.8590\n",
      "충청북도       82200777.1250\n",
      "Name: 용지면적, dtype: float64\n",
      "시도명\n",
      "강원특별자치도    2.5194\n",
      "경기도       20.7838\n",
      "경상남도      10.5442\n",
      "경상북도      11.6129\n",
      "광주광역시      2.0075\n",
      "대구광역시      2.3823\n",
      "대전광역시      1.3451\n",
      "부산광역시      3.2732\n",
      "서울특별시      0.3533\n",
      "세종특별자치시    0.7246\n",
      "울산광역시      5.7469\n",
      "인천광역시      2.4939\n",
      "전라남도       8.9344\n",
      "전북특별자치도    6.0697\n",
      "제주특별자치도    0.3183\n",
      "충청남도      12.0569\n",
      "충청북도       8.8334\n",
      "Name: 용지면적, dtype: float64\n"
     ]
    }
   ],
   "source": [
    "# 시도명별 용지면적 합계 계산\n",
    "land_area = df1.groupby('시도명')['용지면적'].sum()\n",
    "\n",
    "# 숫자 형식으로 보이게 (e 포함하는 숫자 불편)\n",
    "pd.options.display.float_format = '{:.4f}'.format\n",
    "print(land_area)\n",
    "\n",
    "## 시도명별 용지면적 합계 비중\n",
    "total_land_area = land_area.sum()\n",
    "land_area_percentage = (land_area / total_land_area) * 100\n",
    "print(land_area_percentage)"
   ]
  },
  {
   "cell_type": "markdown",
   "metadata": {},
   "source": [
    "### 표1. 시도별 종업원 수"
   ]
  },
  {
   "cell_type": "code",
   "execution_count": 49,
   "metadata": {},
   "outputs": [
    {
     "name": "stdout",
     "output_type": "stream",
     "text": [
      "시도명\n",
      "강원특별자치도      57376\n",
      "경기도        1248995\n",
      "경상남도        414043\n",
      "경상북도        331998\n",
      "광주광역시        83059\n",
      "대구광역시       143702\n",
      "대전광역시        67667\n",
      "부산광역시       175213\n",
      "서울특별시       150517\n",
      "세종특별자치시      22852\n",
      "울산광역시       146509\n",
      "인천광역시       221648\n",
      "전라남도        129224\n",
      "전북특별자치도     136394\n",
      "제주특별자치도       8891\n",
      "충청남도        344247\n",
      "충청북도        236862\n",
      "Name: 종업원합계, dtype: int64\n",
      "시도명\n",
      "강원특별자치도    1.4640\n",
      "경기도       31.8686\n",
      "경상남도      10.5645\n",
      "경상북도       8.4711\n",
      "광주광역시      2.1193\n",
      "대구광역시      3.6666\n",
      "대전광역시      1.7266\n",
      "부산광역시      4.4706\n",
      "서울특별시      3.8405\n",
      "세종특별자치시    0.5831\n",
      "울산광역시      3.7382\n",
      "인천광역시      5.6554\n",
      "전라남도       3.2972\n",
      "전북특별자치도    3.4802\n",
      "제주특별자치도    0.2269\n",
      "충청남도       8.7836\n",
      "충청북도       6.0436\n",
      "Name: 종업원합계, dtype: float64\n",
      "3919197\n"
     ]
    }
   ],
   "source": [
    "# 시도명별 종업원합계 계산\n",
    "employees = df1.groupby('시도명')['종업원합계'].sum()\n",
    "print(employees)\n",
    "\n",
    "## 시도명별 종업원합계 비중\n",
    "total_employees = employees.sum()\n",
    "employees_percentage = (employees / total_employees) * 100\n",
    "print(employees_percentage)\n",
    "print(total_employees)"
   ]
  },
  {
   "cell_type": "markdown",
   "metadata": {},
   "source": [
    "### 확인차"
   ]
  },
  {
   "cell_type": "code",
   "execution_count": 15,
   "metadata": {},
   "outputs": [],
   "source": [
    "seoul_df1 = df1[df1['시도명'] == '서울특별시']\n",
    "busan_df1 = df1[df1['시도명'] == '부산광역시']\n",
    "daegu_df1 = df1[df1['시도명'] == '대구광역시']\n",
    "incheon_df1 = df1[df1['시도명'] == '인천광역시']\n",
    "gwangju_df1 = df1[df1['시도명'] == '광주광역시']\n",
    "daejeon_df1 = df1[df1['시도명'] == '대전광역시']\n",
    "ulsan_df1 = df1[df1['시도명'] == '울산광역시']\n",
    "sejong_df1 = df1[df1['시도명']=='세종특별자치시']\n",
    "gyeonggi_df1 = df1[df1['시도명']=='경기도']\n",
    "gangwon_df1 = df1[df1['시도명']=='강원특별자치도']\n",
    "chungbuk_df1 = df1[df1['시도명']=='충청북도']\n",
    "chungnam_df1 = df1[df1['시도명']=='충청남도']\n",
    "jeonnam_df1 = df1[df1['시도명']=='전라남도']\n",
    "gyeongbuk_df1 = df1[df1['시도명']=='경상북도']\n",
    "gyeongnam_df1 = df1[df1['시도명']=='경상남도']\n",
    "jeju_df1 = df1[df1['시도명']=='제주특별자치도']\n",
    "jeonbuk_df1 = df1[df1['시도명']=='전북특별자치도']"
   ]
  },
  {
   "cell_type": "code",
   "execution_count": 43,
   "metadata": {},
   "outputs": [
    {
     "data": {
      "text/plain": [
       "2.119286170100661"
      ]
     },
     "execution_count": 43,
     "metadata": {},
     "output_type": "execute_result"
    }
   ],
   "source": [
    "# df1['종업원합계'].sum()\n",
    "gwangju_df1['종업원합계'].sum()\n",
    "(83059/3919197) * 100"
   ]
  },
  {
   "cell_type": "markdown",
   "metadata": {},
   "source": [
    "## 표2. 2022년 12월 말 기준 데이터"
   ]
  },
  {
   "cell_type": "code",
   "execution_count": 3,
   "metadata": {},
   "outputs": [
    {
     "name": "stderr",
     "output_type": "stream",
     "text": [
      "c:\\anaconda\\Lib\\site-packages\\openpyxl\\styles\\stylesheet.py:226: UserWarning: Workbook contains no default style, apply openpyxl's default\n",
      "  warn(\"Workbook contains no default style, apply openpyxl's default\")\n"
     ]
    }
   ],
   "source": [
    "import pandas as pd\n",
    "df2 = pd.read_excel('../../bigfile/(2022.12월말기준)_전국공장등록현황.xlsx')"
   ]
  },
  {
   "cell_type": "markdown",
   "metadata": {},
   "source": [
    "### 전처리"
   ]
  },
  {
   "cell_type": "code",
   "execution_count": 50,
   "metadata": {},
   "outputs": [],
   "source": [
    "df2.shape # (208504, 38)\n",
    "\n",
    "# df2['시도명'].unique()\n",
    "# ['서울특별시', '부산광역시', ' ', '대구광역시', '인천광역시', '광주광역시', '대전광역시', '울산광역시',\n",
    "#        '세종특별자치시', '경기도', '강원도', '충청북도', '충청남도', '전라북도', '전라남도', '경상북도',\n",
    "#        '경상남도',  '제주특별자치도']\n",
    "\n",
    "# 지역명 전처리\n",
    "# 제주도 + 제주특별자치도 -> 제주특별자치도\n",
    "df2['시도명'] = df2['시도명'].replace('제주도', '제주특별자치도')\n",
    "\n",
    "## '시도명'이 빈 문자열(23개)\n",
    "# 데이터 확인\n",
    "empty = df2[df2['시도명'] == ' '] # [23 rows x 38 columns]\n",
    "# 데이터 제거\n",
    "df2 = df2[df2['시도명'] != ' ']\n",
    "\n",
    "# df2.shape # (208481, 38)"
   ]
  },
  {
   "cell_type": "markdown",
   "metadata": {},
   "source": [
    "### 표2. 시도별 공장등록수"
   ]
  },
  {
   "cell_type": "code",
   "execution_count": 51,
   "metadata": {},
   "outputs": [
    {
     "name": "stdout",
     "output_type": "stream",
     "text": [
      "시도명\n",
      "경기도        74486\n",
      "경상남도       19975\n",
      "경상북도       16002\n",
      "인천광역시      13348\n",
      "충청남도       11732\n",
      "서울특별시      11347\n",
      "부산광역시      11069\n",
      "충청북도        9557\n",
      "대구광역시       8480\n",
      "전라남도        7849\n",
      "전라북도        7574\n",
      "광주광역시       4717\n",
      "강원도         4008\n",
      "대전광역시       3729\n",
      "울산광역시       3065\n",
      "세종특별자치시      807\n",
      "제주특별자치도      736\n",
      "Name: count, dtype: int64\n",
      "시도명\n",
      "경기도       35.7280\n",
      "경상남도       9.5812\n",
      "경상북도       7.6755\n",
      "인천광역시      6.4025\n",
      "충청남도       5.6274\n",
      "서울특별시      5.4427\n",
      "부산광역시      5.3094\n",
      "충청북도       4.5841\n",
      "대구광역시      4.0675\n",
      "전라남도       3.7649\n",
      "전라북도       3.6329\n",
      "광주광역시      2.2626\n",
      "강원도        1.9225\n",
      "대전광역시      1.7887\n",
      "울산광역시      1.4702\n",
      "세종특별자치시    0.3871\n",
      "제주특별자치도    0.3530\n",
      "Name: count, dtype: float64\n"
     ]
    }
   ],
   "source": [
    "## 시도명별 공장 등록수 갯수\n",
    "factory_counts2 = df2['시도명'].value_counts()\n",
    "print(factory_counts2)\n",
    "\n",
    "## 시도명별 공장 등록수 비중\n",
    "## 전체 공장 등록 수\n",
    "total_factories2 = factory_counts2.sum()\n",
    "# 시도별 비중 계산\n",
    "factory_percentage2 = (factory_counts2 / total_factories2) * 100\n",
    "print(factory_percentage2)"
   ]
  },
  {
   "cell_type": "markdown",
   "metadata": {},
   "source": [
    "### 표2. 시도별 종업원 수 (공장등록기준)"
   ]
  },
  {
   "cell_type": "code",
   "execution_count": 52,
   "metadata": {},
   "outputs": [
    {
     "name": "stdout",
     "output_type": "stream",
     "text": [
      "시도명\n",
      "강원도          55964\n",
      "경기도        1223626\n",
      "경상남도        410641\n",
      "경상북도        334301\n",
      "광주광역시        82560\n",
      "대구광역시       137265\n",
      "대전광역시        63311\n",
      "부산광역시       173445\n",
      "서울특별시       152237\n",
      "세종특별자치시      21677\n",
      "울산광역시       144863\n",
      "인천광역시       217293\n",
      "전라남도        126603\n",
      "전라북도        134332\n",
      "제주특별자치도       8693\n",
      "충청남도        329669\n",
      "충청북도        229014\n",
      "Name: 종업원합계, dtype: int64\n",
      "시도명\n",
      "강원도        1.4553\n",
      "경기도       31.8197\n",
      "경상남도      10.6785\n",
      "경상북도       8.6933\n",
      "광주광역시      2.1469\n",
      "대구광역시      3.5695\n",
      "대전광역시      1.6464\n",
      "부산광역시      4.5103\n",
      "서울특별시      3.9588\n",
      "세종특별자치시    0.5637\n",
      "울산광역시      3.7671\n",
      "인천광역시      5.6506\n",
      "전라남도       3.2922\n",
      "전라북도       3.4932\n",
      "제주특별자치도    0.2261\n",
      "충청남도       8.5729\n",
      "충청북도       5.9554\n",
      "Name: 종업원합계, dtype: float64\n"
     ]
    }
   ],
   "source": [
    "# 시도명별 종업원합계 계산\n",
    "employees2 = df2.groupby('시도명')['종업원합계'].sum()\n",
    "print(employees2)\n",
    "\n",
    "## 시도명별 종업원합계 비중\n",
    "total_employees2 = employees2.sum()\n",
    "employees_percentage2 = (employees2 / total_employees2) * 100\n",
    "print(employees_percentage2)"
   ]
  },
  {
   "cell_type": "markdown",
   "metadata": {},
   "source": [
    "확인차"
   ]
  },
  {
   "cell_type": "code",
   "execution_count": 7,
   "metadata": {},
   "outputs": [],
   "source": [
    "seoul_df2 = df2[df2['시도명'] == '서울특별시']\n",
    "busan_df2 = df2[df2['시도명'] == '부산광역시']\n",
    "daegu_df2 = df2[df2['시도명'] == '대구광역시']\n",
    "incheon_df2 = df2[df2['시도명'] == '인천광역시']\n",
    "gwangju_df2 = df2[df2['시도명'] == '광주광역시']\n",
    "daejeon_df2 = df2[df2['시도명'] == '대전광역시']\n",
    "ulsan_df2 = df2[df2['시도명'] == '울산광역시']\n",
    "sejong_df2 = df2[df2['시도명']=='세종특별자치시']\n",
    "gyeonggi_df2 = df2[df2['시도명']=='경기도']\n",
    "gangwon_df2 = df2[df2['시도명']=='강원특별자치도']\n",
    "chungbuk_df2 = df2[df2['시도명']=='충청북도']\n",
    "chungnam_df2 = df2[df2['시도명']=='충청남도']\n",
    "jeonnam_df2 = df2[df2['시도명']=='전라남도']\n",
    "gyeongbuk_df2 = df2[df2['시도명']=='경상북도']\n",
    "gyeongnam_df2 = df2[df2['시도명']=='경상남도']\n",
    "jeju_df2 = df2[df2['시도명']=='제주특별자치도']\n",
    "jeonbuk_df2 = df2[df2['시도명']=='전북특별자치도']"
   ]
  },
  {
   "cell_type": "code",
   "execution_count": 16,
   "metadata": {},
   "outputs": [
    {
     "data": {
      "text/plain": [
       "0.22605678230157167"
      ]
     },
     "execution_count": 16,
     "metadata": {},
     "output_type": "execute_result"
    }
   ],
   "source": [
    "# jeonnam_df2.shape\n",
    "# df2.shape\n",
    "# (13348/208481)*100\n",
    "\n",
    "# gyeongnam_df2['종업원합계'].sum()\n",
    "# df2['종업원합계'].sum()\n",
    "(8693/3845494)*100"
   ]
  },
  {
   "cell_type": "markdown",
   "metadata": {},
   "source": [
    "## 표3. 2013년 12월 말 기준 데이터"
   ]
  },
  {
   "cell_type": "code",
   "execution_count": 17,
   "metadata": {},
   "outputs": [
    {
     "name": "stderr",
     "output_type": "stream",
     "text": [
      "c:\\anaconda\\Lib\\site-packages\\openpyxl\\styles\\stylesheet.py:226: UserWarning: Workbook contains no default style, apply openpyxl's default\n",
      "  warn(\"Workbook contains no default style, apply openpyxl's default\")\n"
     ]
    }
   ],
   "source": [
    "import pandas as pd\n",
    "df3 = pd.read_excel('../../bigfile/(2013.12월말기준)_전국공장등록현황.xlsx')"
   ]
  },
  {
   "cell_type": "code",
   "execution_count": 22,
   "metadata": {},
   "outputs": [
    {
     "data": {
      "text/html": [
       "<div>\n",
       "<style scoped>\n",
       "    .dataframe tbody tr th:only-of-type {\n",
       "        vertical-align: middle;\n",
       "    }\n",
       "\n",
       "    .dataframe tbody tr th {\n",
       "        vertical-align: top;\n",
       "    }\n",
       "\n",
       "    .dataframe thead th {\n",
       "        text-align: right;\n",
       "    }\n",
       "</style>\n",
       "<table border=\"1\" class=\"dataframe\">\n",
       "  <thead>\n",
       "    <tr style=\"text-align: right;\">\n",
       "      <th></th>\n",
       "      <th>시도명</th>\n",
       "      <th>시군구명</th>\n",
       "      <th>관리기관</th>\n",
       "      <th>회사명</th>\n",
       "      <th>공장구분</th>\n",
       "      <th>단지명</th>\n",
       "      <th>설립구분</th>\n",
       "      <th>입주형태</th>\n",
       "      <th>보유구분</th>\n",
       "      <th>최초승인일</th>\n",
       "      <th>...</th>\n",
       "      <th>지식산업센터명</th>\n",
       "      <th>대표업종</th>\n",
       "      <th>업종명</th>\n",
       "      <th>업종코드</th>\n",
       "      <th>차수</th>\n",
       "      <th>법인주소</th>\n",
       "      <th>필지수</th>\n",
       "      <th>공장주소</th>\n",
       "      <th>공장주소_지번</th>\n",
       "      <th>공장관리번호</th>\n",
       "    </tr>\n",
       "  </thead>\n",
       "  <tbody>\n",
       "    <tr>\n",
       "      <th>0</th>\n",
       "      <td>서울특별시</td>\n",
       "      <td>종로구</td>\n",
       "      <td>서울특별시 종로구</td>\n",
       "      <td>(주)이건만에이앤에프</td>\n",
       "      <td>개별</td>\n",
       "      <td></td>\n",
       "      <td>일반</td>\n",
       "      <td>해당없음</td>\n",
       "      <td>자가</td>\n",
       "      <td></td>\n",
       "      <td>...</td>\n",
       "      <td></td>\n",
       "      <td>15129</td>\n",
       "      <td>가방 및 기타 보호용 케이스 제조업 외 1 종</td>\n",
       "      <td>15129,15121</td>\n",
       "      <td>9</td>\n",
       "      <td>서울특별시 종로구 자하문로 280,  3층 301호 (부암동)</td>\n",
       "      <td>1</td>\n",
       "      <td>서울특별시 종로구 필운대로 110-2,  지하1층 (신교동)</td>\n",
       "      <td>서울특별시 종로구 신교동 35번지</td>\n",
       "      <td>111102004073665</td>\n",
       "    </tr>\n",
       "    <tr>\n",
       "      <th>1</th>\n",
       "      <td>서울특별시</td>\n",
       "      <td>종로구</td>\n",
       "      <td>서울특별시 종로구</td>\n",
       "      <td>남일문화 (주)</td>\n",
       "      <td>개별</td>\n",
       "      <td></td>\n",
       "      <td>일반</td>\n",
       "      <td></td>\n",
       "      <td>임대</td>\n",
       "      <td></td>\n",
       "      <td>...</td>\n",
       "      <td></td>\n",
       "      <td>18111</td>\n",
       "      <td>경 인쇄업 외 1 종</td>\n",
       "      <td>18111,18119</td>\n",
       "      <td>9</td>\n",
       "      <td>서울특별시 종로구 자하문로16길 8 (창성동)</td>\n",
       "      <td>1</td>\n",
       "      <td>서울특별시 종로구 자하문로16길 8 (창성동)</td>\n",
       "      <td>서울특별시 종로구 창성동 87-1번지</td>\n",
       "      <td>111102005091210</td>\n",
       "    </tr>\n",
       "    <tr>\n",
       "      <th>2</th>\n",
       "      <td>서울특별시</td>\n",
       "      <td>종로구</td>\n",
       "      <td>서울특별시 종로구</td>\n",
       "      <td>(주)에취.알.디</td>\n",
       "      <td>개별</td>\n",
       "      <td></td>\n",
       "      <td>일반</td>\n",
       "      <td></td>\n",
       "      <td>임대</td>\n",
       "      <td>19980101</td>\n",
       "      <td>...</td>\n",
       "      <td></td>\n",
       "      <td>33934</td>\n",
       "      <td>교시용 모형 제조업</td>\n",
       "      <td>33934</td>\n",
       "      <td>9</td>\n",
       "      <td>서울특별시 종로구 통의동 35-69번지</td>\n",
       "      <td>1</td>\n",
       "      <td>서울특별시 종로구 통의동 35-69번지</td>\n",
       "      <td>서울특별시 종로구 통의동 35-69번지</td>\n",
       "      <td>111100000000003</td>\n",
       "    </tr>\n",
       "    <tr>\n",
       "      <th>3</th>\n",
       "      <td>서울특별시</td>\n",
       "      <td>종로구</td>\n",
       "      <td>서울특별시 종로구</td>\n",
       "      <td>(주)코리아쉬핑가제트</td>\n",
       "      <td>개별</td>\n",
       "      <td></td>\n",
       "      <td>일반</td>\n",
       "      <td>해당없음</td>\n",
       "      <td>자가</td>\n",
       "      <td>19980101</td>\n",
       "      <td>...</td>\n",
       "      <td></td>\n",
       "      <td>58119</td>\n",
       "      <td>기타 서적 출판업 외 2 종</td>\n",
       "      <td>58119,18111,18119</td>\n",
       "      <td>9</td>\n",
       "      <td>서울특별시 도봉구 창동 181-17번지 쌍용아파트 115-1902</td>\n",
       "      <td>1</td>\n",
       "      <td>서울특별시 종로구 자하문로2길 13-3 (통의동)</td>\n",
       "      <td>서울특별시 종로구 통의동 35-6번지</td>\n",
       "      <td>111100000000002</td>\n",
       "    </tr>\n",
       "    <tr>\n",
       "      <th>4</th>\n",
       "      <td>서울특별시</td>\n",
       "      <td>종로구</td>\n",
       "      <td>서울특별시 종로구</td>\n",
       "      <td>성문인쇄사</td>\n",
       "      <td>개별</td>\n",
       "      <td></td>\n",
       "      <td>일반</td>\n",
       "      <td></td>\n",
       "      <td>임대</td>\n",
       "      <td>19980101</td>\n",
       "      <td>...</td>\n",
       "      <td></td>\n",
       "      <td>18119</td>\n",
       "      <td>기타 인쇄업 외 1 종</td>\n",
       "      <td>18119,18111</td>\n",
       "      <td>9</td>\n",
       "      <td>서울특별시 서대문구 거북골로 4-7 (홍은동)</td>\n",
       "      <td>1</td>\n",
       "      <td>서울특별시 종로구 효자로 7-2 (통의동)</td>\n",
       "      <td>서울특별시 종로구 통의동 35-53번지</td>\n",
       "      <td>111100000000004</td>\n",
       "    </tr>\n",
       "  </tbody>\n",
       "</table>\n",
       "<p>5 rows × 38 columns</p>\n",
       "</div>"
      ],
      "text/plain": [
       "     시도명 시군구명       관리기관          회사명 공장구분 단지명 설립구분  입주형태 보유구분     최초승인일  ...  \\\n",
       "0  서울특별시  종로구  서울특별시 종로구  (주)이건만에이앤에프   개별       일반  해당없음   자가            ...   \n",
       "1  서울특별시  종로구  서울특별시 종로구     남일문화 (주)   개별       일반         임대            ...   \n",
       "2  서울특별시  종로구  서울특별시 종로구    (주)에취.알.디   개별       일반         임대  19980101  ...   \n",
       "3  서울특별시  종로구  서울특별시 종로구  (주)코리아쉬핑가제트   개별       일반  해당없음   자가  19980101  ...   \n",
       "4  서울특별시  종로구  서울특별시 종로구        성문인쇄사   개별       일반         임대  19980101  ...   \n",
       "\n",
       "  지식산업센터명   대표업종                        업종명               업종코드  차수  \\\n",
       "0          15129  가방 및 기타 보호용 케이스 제조업 외 1 종        15129,15121   9   \n",
       "1          18111                경 인쇄업 외 1 종        18111,18119   9   \n",
       "2          33934                 교시용 모형 제조업              33934   9   \n",
       "3          58119            기타 서적 출판업 외 2 종  58119,18111,18119   9   \n",
       "4          18119               기타 인쇄업 외 1 종        18119,18111   9   \n",
       "\n",
       "                                   법인주소  필지수  \\\n",
       "0    서울특별시 종로구 자하문로 280,  3층 301호 (부암동)    1   \n",
       "1             서울특별시 종로구 자하문로16길 8 (창성동)    1   \n",
       "2                 서울특별시 종로구 통의동 35-69번지    1   \n",
       "3  서울특별시 도봉구 창동 181-17번지 쌍용아파트 115-1902    1   \n",
       "4             서울특별시 서대문구 거북골로 4-7 (홍은동)    1   \n",
       "\n",
       "                                공장주소                공장주소_지번           공장관리번호  \n",
       "0  서울특별시 종로구 필운대로 110-2,  지하1층 (신교동)     서울특별시 종로구 신교동 35번지  111102004073665  \n",
       "1          서울특별시 종로구 자하문로16길 8 (창성동)   서울특별시 종로구 창성동 87-1번지  111102005091210  \n",
       "2              서울특별시 종로구 통의동 35-69번지  서울특별시 종로구 통의동 35-69번지  111100000000003  \n",
       "3        서울특별시 종로구 자하문로2길 13-3 (통의동)  서울특별시 종로구 통의동 35-6번지   111100000000002  \n",
       "4            서울특별시 종로구 효자로 7-2 (통의동)  서울특별시 종로구 통의동 35-53번지  111100000000004  \n",
       "\n",
       "[5 rows x 38 columns]"
      ]
     },
     "execution_count": 22,
     "metadata": {},
     "output_type": "execute_result"
    }
   ],
   "source": [
    "df3.shape # (164110, 38)\n",
    "df3.head()"
   ]
  },
  {
   "cell_type": "code",
   "execution_count": 53,
   "metadata": {},
   "outputs": [
    {
     "name": "stdout",
     "output_type": "stream",
     "text": [
      "시도명\n",
      "강원도          48439\n",
      "경기도        1069074\n",
      "경상남도        375937\n",
      "경상북도        316889\n",
      "광주광역시        81061\n",
      "대구광역시       131970\n",
      "대전광역시        51560\n",
      "부산광역시       170234\n",
      "서울특별시       173953\n",
      "세종특별자치시      19845\n",
      "울산광역시       150919\n",
      "인천광역시       201130\n",
      "전라남도        113259\n",
      "전라북도        112491\n",
      "제주특별자치도       7558\n",
      "충청남도        271914\n",
      "충청북도        164538\n",
      "Name: 종업원합계, dtype: int64\n"
     ]
    }
   ],
   "source": [
    "## 공장등록수\n",
    "factory_counts3 = df3['시도명'].value_counts()\n",
    "# print(factory_counts3)\n",
    "\n",
    "## 공장등록면적\n",
    "land_area3 = df3.groupby('시도명')['용지면적'].sum()\n",
    "# print(land_area3) # 144333623.5940\n",
    "\n",
    "## 종업원 수\n",
    "employees = df3.groupby('시도명')['종업원합계'].sum()\n",
    "print(employees) # 1069074\n"
   ]
  },
  {
   "cell_type": "markdown",
   "metadata": {},
   "source": [
    "확인차"
   ]
  },
  {
   "cell_type": "code",
   "execution_count": null,
   "metadata": {},
   "outputs": [
    {
     "name": "stdout",
     "output_type": "stream",
     "text": [
      "(58434, 38)\n",
      "144333623.594\n",
      "1069074\n"
     ]
    }
   ],
   "source": [
    "gyeonggi_df3 = df3[df3['시도명']=='경기도']\n",
    "print(gyeonggi_df3.shape) # (58434, 38)\n",
    "print(gyeonggi_df3['용지면적'].sum()) # 144333623.594\n",
    "print(gyeonggi_df3['종업원합계'].sum()) # 1069074\n",
    "\n",
    "gyeonggi_df1 = df1[df1['시도명']=='경기도']\n",
    "print(gyeonggi_df1.shape) # (77787, 38)\n",
    "print(gyeonggi_df1['용지면적'].sum()) # 193408451.978\n",
    "print(gyeonggi_df1['종업원합계'].sum()) # 1248995\n",
    "employees = df1.groupby('시도명')['종업원합계'].sum()\n",
    "print(employees) # 1248995"
   ]
  },
  {
   "cell_type": "markdown",
   "metadata": {},
   "source": [
    "증가율 (%) = ((2024년 값 - 2013년 값) / 2013년 값) × 100"
   ]
  },
  {
   "cell_type": "code",
   "execution_count": 44,
   "metadata": {},
   "outputs": [
    {
     "data": {
      "text/plain": [
       "193.408451978"
      ]
     },
     "execution_count": 44,
     "metadata": {},
     "output_type": "execute_result"
    }
   ],
   "source": [
    "# ((77787-58434)/58434)*100\n",
    "# ((193408451.978 - 144333623.594)/144333623.594)*100\n",
    "# ((1248995-1069074)/1069074) * 100\n",
    "# (1248995-1069074)\n"
   ]
  },
  {
   "cell_type": "code",
   "execution_count": 58,
   "metadata": {},
   "outputs": [
    {
     "name": "stdout",
     "output_type": "stream",
     "text": [
      "연평균 증가율: 2.66%\n"
     ]
    }
   ],
   "source": [
    "# 초기 값, 최종 값, 기간 설정\n",
    "initial_value = 58434  # 예: 공장등록수 초기 값\n",
    "final_value = 77787    # 예: 공장등록수 최종 값\n",
    "years = 10 + 11/12 # (2013년 12월 ~ 2024년 12월 - 2024년 12월)\n",
    "\n",
    "# CAGR 계산\n",
    "cagr = ((final_value / initial_value) ** (1 / years)) - 1\n",
    "\n",
    "# 퍼센트로 변환\n",
    "cagr_percentage = cagr * 100\n",
    "\n",
    "print(f\"연평균 증가율: {cagr_percentage:.2f}%\")\n"
   ]
  },
  {
   "cell_type": "code",
   "execution_count": 59,
   "metadata": {},
   "outputs": [
    {
     "name": "stdout",
     "output_type": "stream",
     "text": [
      "연평균 증가율: 2.72%\n"
     ]
    }
   ],
   "source": [
    "# 초기 값, 최종 값, 기간 설정\n",
    "initial_value2 = 144333623.594  # 예: 공장등록수 초기 값\n",
    "final_value2 = 193408451.978    # 예: 공장등록수 최종 값\n",
    "\n",
    "# CAGR 계산\n",
    "cagr2 = ((final_value2 / initial_value2) ** (1 / years)) - 1\n",
    "\n",
    "# 퍼센트로 변환\n",
    "cagr_percentage2 = cagr2 * 100\n",
    "\n",
    "print(f\"연평균 증가율: {cagr_percentage2:.2f}%\")\n"
   ]
  },
  {
   "cell_type": "code",
   "execution_count": 60,
   "metadata": {},
   "outputs": [
    {
     "name": "stdout",
     "output_type": "stream",
     "text": [
      "연평균 증가율: 1.44%\n"
     ]
    }
   ],
   "source": [
    "# 초기 값, 최종 값, 기간 설정\n",
    "initial_value3 = 1069074.594  # 예: 공장등록수 초기 값\n",
    "final_value3 = 1248995    # 예: 공장등록수 최종 값\n",
    "\n",
    "# CAGR 계산\n",
    "cagr3 = ((final_value3 / initial_value3) ** (1 / years)) - 1\n",
    "\n",
    "# 퍼센트로 변환\n",
    "cagr_percentage3 = cagr3 * 100\n",
    "\n",
    "print(f\"연평균 증가율: {cagr_percentage3:.2f}%\")"
   ]
  }
 ],
 "metadata": {
  "kernelspec": {
   "display_name": "base",
   "language": "python",
   "name": "python3"
  },
  "language_info": {
   "codemirror_mode": {
    "name": "ipython",
    "version": 3
   },
   "file_extension": ".py",
   "mimetype": "text/x-python",
   "name": "python",
   "nbconvert_exporter": "python",
   "pygments_lexer": "ipython3",
   "version": "3.11.7"
  }
 },
 "nbformat": 4,
 "nbformat_minor": 2
}
