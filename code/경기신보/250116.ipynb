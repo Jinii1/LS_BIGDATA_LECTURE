{
 "cells": [
  {
   "cell_type": "code",
   "execution_count": 1,
   "metadata": {},
   "outputs": [],
   "source": [
    "import pandas as pd\n",
    "raw_df24_12 = pd.read_excel('../../bigfile/(2024.12월말기준)_전국공장등록현황.xlsx')\n",
    "df24_12 = raw_df24_12.copy()"
   ]
  },
  {
   "cell_type": "code",
   "execution_count": null,
   "metadata": {},
   "outputs": [],
   "source": []
  },
  {
   "cell_type": "code",
   "execution_count": 2,
   "metadata": {},
   "outputs": [],
   "source": [
    "# 시도명 공란인 데이터 12개\n",
    "# print(df24_12[df24_12['시도명'] == ' ']) # 12\n",
    "\n",
    "# 시도명 공란인 데이터 중 주소가 경기도인 것\n",
    "# 경기도 고양시 덕양구 동산동 380  412812024151004  \n",
    "# 경기도 고양시 덕양구 동산동 380  431502021604399  \n",
    "# 경기도 오산시 지곶동 602-6  413702023971499  \n",
    "# 경기도 군포시 당정동 107-9  414102022853826  \n",
    "# 경기도 파주시 파평면 파주 콘텐츠월드일반산어단지 산업 11-1  414802024109524\n",
    "\n",
    "# 시도명 공란인 데이터 중 주소가 경기도인 것 시도명=경기도 변경\n",
    "df24_12.loc[(df24_12['시도명'] == ' ') & (df24_12['공장관리번호'] == 412812024151004), '시도명'] = '경기도'\n",
    "df24_12.loc[(df24_12['시도명'] == ' ') & (df24_12['공장관리번호'] == 431502021604399), '시도명'] = '경기도'\n",
    "df24_12.loc[(df24_12['시도명'] == ' ') & (df24_12['공장관리번호'] == 413702023971499), '시도명'] = '경기도'\n",
    "df24_12.loc[(df24_12['시도명'] == ' ') & (df24_12['공장관리번호'] == 414102022853826), '시도명'] = '경기도'\n",
    "df24_12.loc[(df24_12['시도명'] == ' ') & (df24_12['공장관리번호'] == 414802024109524), '시도명'] = '경기도'\n",
    "# print(df24_12[df24_12['시도명'] == ' ']) # 7\n",
    "\n",
    "df24_12.loc[(df24_12['공장관리번호'] == 412812024151004), '시군구명'] = '고양시 덕양구'\n",
    "df24_12.loc[(df24_12['공장관리번호'] == 431502021604399), '시군구명'] = '고양시 덕양구'\n",
    "df24_12.loc[(df24_12['공장관리번호'] == 413702023971499), '시군구명'] = '오산시'\n",
    "df24_12.loc[(df24_12['공장관리번호'] == 414102022853826), '시군구명'] = '군포시'\n",
    "df24_12.loc[(df24_12['공장관리번호'] == 414802024109524), '시군구명'] = '파주시'\n",
    "\n",
    "# 경기도 데이터만 따로 추출\n",
    "g_24_12 = df24_12[df24_12['시도명']=='경기도']\n",
    "# g_24_12[g_24_12['시군구명']==' ']"
   ]
  },
  {
   "cell_type": "code",
   "execution_count": 69,
   "metadata": {},
   "outputs": [
    {
     "name": "stdout",
     "output_type": "stream",
     "text": [
      "519\n"
     ]
    }
   ],
   "source": [
    "g_24_12.shape[0]\n",
    "print(77890-77371) # 데이터 519개가 차이난다\n",
    "# 각 시군 기준으로 상호가 같은 애들 데이터 뽑기"
   ]
  },
  {
   "cell_type": "markdown",
   "metadata": {},
   "source": [
    "7720개 나왔는데\n",
    "다시 확인"
   ]
  },
  {
   "cell_type": "code",
   "execution_count": null,
   "metadata": {},
   "outputs": [
    {
     "name": "stdout",
     "output_type": "stream",
     "text": [
      "172\n",
      "174\n",
      "회사명\n",
      "일진기업(주)          2\n",
      "양평군농협조합공동사업법인    2\n",
      "Name: count, dtype: int64\n",
      "4\n"
     ]
    }
   ],
   "source": [
    "g = g_24_12[g_24_12['시군구명']=='양평군']\n",
    "print(g['회사명'].nunique())\n",
    "print(g.shape[0])\n",
    "\n",
    "\n",
    "# 중복된 회사명만 출력\n",
    "print(g['회사명'].value_counts()[g['회사명'].value_counts() > 1])\n",
    "\n",
    "# 중복된 회사명 리스트 추출\n",
    "g_d = g['회사명'].value_counts()[g['회사명'].value_counts() > 1].index\n",
    "\n",
    "# 중복된 회사명에 해당하는 데이터만 추출\n",
    "result = g[g['회사명'].isin(g_d)]\n",
    "print(result.shape[0])\n",
    "\n",
    "# 같은 회사끼리 정렬\n",
    "result = result.sort_values(by='회사명', ascending=True)\n",
    "print(result.shape[0])\n",
    "\n",
    "# # 엑셀로 저장\n",
    "# result.to_excel('../../bigfile/양평군.xlsx')"
   ]
  },
  {
   "cell_type": "markdown",
   "metadata": {},
   "source": [
    "성남시 중원구 11개 삭제 필요"
   ]
  },
  {
   "cell_type": "code",
   "execution_count": 95,
   "metadata": {},
   "outputs": [
    {
     "data": {
      "text/plain": [
       "array(['수원시 장안구', '수원시 권선구', '수원시 팔달구', '수원시 영통구', '성남시 수정구', '성남시 중원구',\n",
       "       '성남시 분당구', '의정부시', '안양시 만안구', '안양시 동안구', '부천시 원미구', '부천시 소사구',\n",
       "       '부천시 오정구', '광명시', '평택시', '동두천시', '안산시 상록구', '안산시 단원구', '고양시 덕양구',\n",
       "       '고양시 일산동구', '고양시 일산서구', '과천시', '구리시', '남양주시', '오산시', '시흥시', '군포시',\n",
       "       '의왕시', '하남시', '용인시 처인구', '용인시 기흥구', '용인시 수지구', '파주시', '이천시', '안성시',\n",
       "       '김포시', '화성시', '광주시', '양주시', '포천시', '여주시', '여주군', '연천군', '가평군',\n",
       "       '양평군'], dtype=object)"
      ]
     },
     "execution_count": 95,
     "metadata": {},
     "output_type": "execute_result"
    }
   ],
   "source": [
    "g_24_12['시군구명'].unique()"
   ]
  },
  {
   "cell_type": "code",
   "execution_count": 30,
   "metadata": {},
   "outputs": [],
   "source": [
    "g_88 = g_24_12[g_24_12['시군구명']=='성남시 중원구']\n",
    "# print(g_88.shape[0]) # 2648\n",
    "# # raw는 2648, 답지는 2637 -> 데이터 11개 지워야 함\n",
    "\n",
    "# # 등록구분 컬럼 ' '공란 O\n",
    "# print(g_88['등록구분'].value_counts())\n",
    "# 완료신고    1987\n",
    "# 등록변경     509\n",
    "# 신규등록     151\n",
    "#            1\n",
    "g_88[g_88['등록구분']==' ']\n",
    "\n",
    "# 중복된 회사명만 출력\n",
    "g_88['회사명'].value_counts()[g_88['회사명'].value_counts() > 1]\n",
    "\n",
    "# 중복된 회사명 리스트 추출\n",
    "g_88_d = g_88['회사명'].value_counts()[g_88['회사명'].value_counts() > 1].index\n",
    "\n",
    "# 중복된 회사명에 해당하는 데이터만 추출\n",
    "result_88 = g_88[g_88['회사명'].isin(g_88_d)]\n",
    "result_88 # 37\n",
    "\n",
    "# # 같은 회사끼리 정렬\n",
    "result_88 = result_88.sort_values(by='회사명', ascending=True)\n",
    "\n",
    "result_88.to_excel('../../bigfile/성남시중원구.xlsx')"
   ]
  },
  {
   "cell_type": "markdown",
   "metadata": {},
   "source": [
    "고양시 덕양구 2개 삭제 필요"
   ]
  },
  {
   "cell_type": "code",
   "execution_count": 25,
   "metadata": {},
   "outputs": [
    {
     "name": "stdout",
     "output_type": "stream",
     "text": [
      "336\n"
     ]
    }
   ],
   "source": [
    "g_104 = g_24_12[g_24_12['시군구명']=='고양시 덕양구']\n",
    "\n",
    "print(g_104['공장관리번호'].nunique()) # \n",
    "\n",
    "# print(g_104.shape[0]) # 336 - 334\n",
    "\n",
    "# # # 등록구분 컬럼 ' '공란 X\n",
    "# print(g_104['등록구분'].value_counts())\n",
    "\n",
    "# # # 중복된 회사명만 출력\n",
    "# g_104['회사명'].value_counts()[g_104['회사명'].value_counts() > 1]\n",
    "\n",
    "# # # 중복된 회사명 리스트 추출\n",
    "# g_104_d = g_104['회사명'].value_counts()[g_104['회사명'].value_counts() > 1].index\n",
    "\n",
    "# # # 중복된 회사명에 해당하는 데이터만 추출\n",
    "# result_104 = g_104[g_104['회사명'].isin(g_104_d)]\n",
    "# result_104 \n",
    "\n",
    "# # # # 같은 회사끼리 정렬\n",
    "# result_104 = result_104.sort_values(by='회사명', ascending=True)\n",
    "# result_104\n",
    "\n",
    "# result_104.to_excel('../../bigfile/고양시덕양구.xlsx')"
   ]
  },
  {
   "cell_type": "markdown",
   "metadata": {},
   "source": [
    "오산시 2개 삭제 필요"
   ]
  },
  {
   "cell_type": "code",
   "execution_count": 26,
   "metadata": {},
   "outputs": [
    {
     "name": "stdout",
     "output_type": "stream",
     "text": [
      "320\n"
     ]
    }
   ],
   "source": [
    "g_111 = g_24_12[g_24_12['시군구명']=='오산시']\n",
    "print(g_111['공장관리번호'].nunique()) # \n",
    "\n",
    "# print(g_111.shape[0]) # 320 - 318\n",
    "\n",
    "# # # # 등록구분 컬럼 ' '공란 X\n",
    "# # print(g_104['등록구분'].value_counts())\n",
    "\n",
    "# # # # 중복된 회사명만 출력\n",
    "# g_111['회사명'].value_counts()[g_111['회사명'].value_counts() > 1]\n",
    "\n",
    "# # # # 중복된 회사명 리스트 추출\n",
    "# g_111_d = g_111['회사명'].value_counts()[g_111['회사명'].value_counts() > 1].index\n",
    "\n",
    "# # # # 중복된 회사명에 해당하는 데이터만 추출\n",
    "# result_111 = g_111[g_111['회사명'].isin(g_111_d)]\n",
    "# result_111 \n",
    "\n",
    "# # # # # 같은 회사끼리 정렬\n",
    "# result_111 = result_111.sort_values(by='회사명', ascending=True)\n",
    "# result_111\n",
    "\n",
    "# result_111.to_excel('../../bigfile/오산시.xlsx')"
   ]
  },
  {
   "cell_type": "markdown",
   "metadata": {},
   "source": [
    "용인시 기흥구 X"
   ]
  },
  {
   "cell_type": "code",
   "execution_count": 27,
   "metadata": {},
   "outputs": [
    {
     "name": "stdout",
     "output_type": "stream",
     "text": [
      "576\n"
     ]
    }
   ],
   "source": [
    "g_119 = g_24_12[g_24_12['시군구명']=='용인시 기흥구']\n",
    "print(g_119['공장관리번호'].nunique()) # \n",
    "\n",
    "# print(g_119.shape[0]) # 576\n",
    "\n",
    "# # # # # 등록구분 컬럼 ' '공란 X\n",
    "# # # print(g_104['등록구분'].value_counts())\n",
    "\n",
    "# # # # # 중복된 회사명만 출력\n",
    "# g_119['회사명'].value_counts()[g_119['회사명'].value_counts() > 1]\n",
    "\n",
    "# # # # # 중복된 회사명 리스트 추출\n",
    "# g_119_d = g_119['회사명'].value_counts()[g_119['회사명'].value_counts() > 1].index\n",
    "\n",
    "# # # # # 중복된 회사명에 해당하는 데이터만 추출\n",
    "# result_119 = g_119[g_119['회사명'].isin(g_119_d)]\n",
    "# result_119\n",
    "\n",
    "# # # # # # 같은 회사끼리 정렬\n",
    "# result_119 = result_119.sort_values(by='회사명', ascending=True)\n",
    "# result_119\n",
    "\n",
    "# result_119.to_excel('../../bigfile/용인시기흥구.xlsx')"
   ]
  },
  {
   "cell_type": "markdown",
   "metadata": {},
   "source": [
    "여주시 2개 삭제 필요"
   ]
  },
  {
   "cell_type": "code",
   "execution_count": 21,
   "metadata": {},
   "outputs": [
    {
     "name": "stdout",
     "output_type": "stream",
     "text": [
      "796\n"
     ]
    }
   ],
   "source": [
    "g_130 = g_24_12[g_24_12['시군구명']=='여주시']\n",
    "print(g_130['공장관리번호'].nunique()) # \n",
    "\n",
    "# print(g_130.shape[0]) # 796 - 794\n",
    "\n",
    "# # # # # # 등록구분 컬럼 ' '공란 X\n",
    "# # # # print(g_104['등록구분'].value_counts())\n",
    "\n",
    "# # # # # # 중복된 회사명만 출력\n",
    "# g_130['회사명'].value_counts()[g_130['회사명'].value_counts() > 1]\n",
    "\n",
    "# # # # # # 중복된 회사명 리스트 추출\n",
    "# g_130_d = g_130['회사명'].value_counts()[g_130['회사명'].value_counts() > 1].index\n",
    "\n",
    "# # # # # # 중복된 회사명에 해당하는 데이터만 추출\n",
    "# result_130 = g_130[g_130['회사명'].isin(g_130_d)]\n",
    "# result_130\n",
    "\n",
    "# # # # # # # 같은 회사끼리 정렬\n",
    "# result_130 = result_130.sort_values(by='회사명', ascending=True)\n",
    "# result_130\n",
    "\n",
    "# result_130.to_excel('../../bigfile/여주시.xlsx')\n",
    "# result_130_1 = result_130[['회사명', '등록일', '전화번호', '대표업종', '종업원합계']]\n",
    "# result_130_1.to_excel('../../bigfile/여주시수정.xlsx')"
   ]
  },
  {
   "cell_type": "markdown",
   "metadata": {},
   "source": [
    "연천군"
   ]
  },
  {
   "cell_type": "code",
   "execution_count": 28,
   "metadata": {},
   "outputs": [
    {
     "name": "stdout",
     "output_type": "stream",
     "text": [
      "216\n"
     ]
    }
   ],
   "source": [
    "g_132 = g_24_12[g_24_12['시군구명']=='연천군']\n",
    "print(g_132['공장관리번호'].nunique()) # \n",
    "\n",
    "\n",
    "# print(g_132.shape[0]) # 216\n",
    "\n",
    "# # # # # # # 등록구분 컬럼 ' '공란 X\n",
    "# # # # # print(g_104['등록구분'].value_counts())\n",
    "\n",
    "# # # # # # # 중복된 회사명만 출력\n",
    "# g_132['회사명'].value_counts()[g_132['회사명'].value_counts() > 1]\n",
    "\n",
    "# # # # # # # 중복된 회사명 리스트 추출\n",
    "# g_132_d = g_132['회사명'].value_counts()[g_132['회사명'].value_counts() > 1].index\n",
    "\n",
    "# # # # # # # 중복된 회사명에 해당하는 데이터만 추출\n",
    "# result_132 = g_132[g_132['회사명'].isin(g_132_d)]\n",
    "# result_132\n",
    "\n",
    "# # # # # # # # 같은 회사끼리 정렬\n",
    "# result_132 = result_132.sort_values(by='회사명', ascending=True)\n",
    "# result_132\n",
    "\n",
    "# result_132.to_excel('../../bigfile/연천군.xlsx')"
   ]
  },
  {
   "cell_type": "markdown",
   "metadata": {},
   "source": [
    "이천시 6개 삭제 필요"
   ]
  },
  {
   "cell_type": "code",
   "execution_count": 37,
   "metadata": {},
   "outputs": [
    {
     "data": {
      "text/html": [
       "<div>\n",
       "<style scoped>\n",
       "    .dataframe tbody tr th:only-of-type {\n",
       "        vertical-align: middle;\n",
       "    }\n",
       "\n",
       "    .dataframe tbody tr th {\n",
       "        vertical-align: top;\n",
       "    }\n",
       "\n",
       "    .dataframe thead th {\n",
       "        text-align: right;\n",
       "    }\n",
       "</style>\n",
       "<table border=\"1\" class=\"dataframe\">\n",
       "  <thead>\n",
       "    <tr style=\"text-align: right;\">\n",
       "      <th></th>\n",
       "      <th>시도명</th>\n",
       "      <th>시군구명</th>\n",
       "      <th>관리기관</th>\n",
       "      <th>회사명</th>\n",
       "      <th>공장구분</th>\n",
       "      <th>단지명</th>\n",
       "      <th>설립구분</th>\n",
       "      <th>입주형태</th>\n",
       "      <th>보유구분</th>\n",
       "      <th>최초승인일</th>\n",
       "      <th>...</th>\n",
       "      <th>지식산업센터명</th>\n",
       "      <th>대표업종</th>\n",
       "      <th>업종명</th>\n",
       "      <th>업종코드</th>\n",
       "      <th>차수</th>\n",
       "      <th>법인주소</th>\n",
       "      <th>필지수</th>\n",
       "      <th>공장주소</th>\n",
       "      <th>공장주소_지번</th>\n",
       "      <th>공장관리번호</th>\n",
       "    </tr>\n",
       "  </thead>\n",
       "  <tbody>\n",
       "    <tr>\n",
       "      <th>102281</th>\n",
       "      <td>경기도</td>\n",
       "      <td>이천시</td>\n",
       "      <td>경기도 이천시</td>\n",
       "      <td>(주)제이씨리빙</td>\n",
       "      <td>개별입지</td>\n",
       "      <td></td>\n",
       "      <td>일반</td>\n",
       "      <td></td>\n",
       "      <td>임대</td>\n",
       "      <td></td>\n",
       "      <td>...</td>\n",
       "      <td></td>\n",
       "      <td>13229</td>\n",
       "      <td>기타 직물제품 제조업</td>\n",
       "      <td>13229</td>\n",
       "      <td>10</td>\n",
       "      <td>경기도 이천시 백사면 청백리로697번길 65-116</td>\n",
       "      <td>1</td>\n",
       "      <td>경기도 이천시 백사면 청백리로697번길 65-116</td>\n",
       "      <td>경기도 이천시 백사면 백우리 339-13</td>\n",
       "      <td>415002020494984</td>\n",
       "    </tr>\n",
       "    <tr>\n",
       "      <th>102282</th>\n",
       "      <td>경기도</td>\n",
       "      <td>이천시</td>\n",
       "      <td>경기도 이천시</td>\n",
       "      <td>(주)제이씨리빙</td>\n",
       "      <td>개별입지</td>\n",
       "      <td></td>\n",
       "      <td>일반</td>\n",
       "      <td>기타</td>\n",
       "      <td>자가</td>\n",
       "      <td>20200731</td>\n",
       "      <td>...</td>\n",
       "      <td></td>\n",
       "      <td>33999</td>\n",
       "      <td>그 외 기타 달리 분류되지 않은 제품 제조업</td>\n",
       "      <td>33999</td>\n",
       "      <td>10</td>\n",
       "      <td></td>\n",
       "      <td>1</td>\n",
       "      <td>경기도 이천시 백사면 청백리로697번길 65-114</td>\n",
       "      <td>경기도 이천시 백사면 백우리 339-30</td>\n",
       "      <td>415002020466746</td>\n",
       "    </tr>\n",
       "  </tbody>\n",
       "</table>\n",
       "<p>2 rows × 38 columns</p>\n",
       "</div>"
      ],
      "text/plain": [
       "        시도명 시군구명     관리기관       회사명  공장구분 단지명 설립구분 입주형태 보유구분     최초승인일  ...  \\\n",
       "102281  경기도  이천시  경기도 이천시  (주)제이씨리빙  개별입지       일반        임대            ...   \n",
       "102282  경기도  이천시  경기도 이천시  (주)제이씨리빙  개별입지       일반   기타   자가  20200731  ...   \n",
       "\n",
       "       지식산업센터명   대표업종                       업종명   업종코드  차수  \\\n",
       "102281          13229               기타 직물제품 제조업  13229  10   \n",
       "102282          33999  그 외 기타 달리 분류되지 않은 제품 제조업  33999  10   \n",
       "\n",
       "                                법인주소  필지수                          공장주소  \\\n",
       "102281  경기도 이천시 백사면 청백리로697번길 65-116    1  경기도 이천시 백사면 청백리로697번길 65-116   \n",
       "102282                                  1  경기도 이천시 백사면 청백리로697번길 65-114   \n",
       "\n",
       "                       공장주소_지번           공장관리번호  \n",
       "102281  경기도 이천시 백사면 백우리 339-13  415002020494984  \n",
       "102282  경기도 이천시 백사면 백우리 339-30  415002020466746  \n",
       "\n",
       "[2 rows x 38 columns]"
      ]
     },
     "execution_count": 37,
     "metadata": {},
     "output_type": "execute_result"
    }
   ],
   "source": [
    "g_123 = g_24_12[g_24_12['시군구명']=='이천시']\n",
    "# print(g_123['공장관리번호'].nunique()) # \n",
    "\n",
    "# print(g_123.shape[0]) # 1269 - 1263\n",
    "\n",
    "# # # # # # # 등록구분 컬럼 ' '공란 X\n",
    "# # # # # print(g_104['등록구분'].value_counts())\n",
    "\n",
    "# # # # # # # 중복된 회사명만 출력\n",
    "g_123['회사명'].value_counts()[g_123['회사명'].value_counts() > 1]\n",
    "\n",
    "# # # # # # 중복된 회사명 리스트 추출\n",
    "g_123_d = g_123['회사명'].value_counts()[g_123['회사명'].value_counts() > 1].index\n",
    "\n",
    "# # # # # # 중복된 회사명에 해당하는 데이터만 추출\n",
    "result_123 = g_123[g_123['회사명'].isin(g_123_d)]\n",
    "result_123\n",
    "\n",
    "# # # # # # # 같은 회사끼리 정렬\n",
    "result_123 = result_123.sort_values(by='회사명', ascending=True)\n",
    "\n",
    "# result_123[result_123['종업원합계']==0]\n",
    "g_123[g_123['회사명']=='(주)제이씨리빙']\n",
    "\n",
    "# result_123.to_excel('../../bigfile/이천시.xlsx')"
   ]
  },
  {
   "cell_type": "markdown",
   "metadata": {},
   "source": [
    "평택시 10개 삭제 필요"
   ]
  },
  {
   "cell_type": "code",
   "execution_count": 41,
   "metadata": {},
   "outputs": [
    {
     "data": {
      "text/plain": [
       "회사명\n",
       "(주)리네아머트리얼즈            1\n",
       "이지코리아 주식회사             1\n",
       "신원산업(주)                1\n",
       "에스엘텍                   1\n",
       "에스지생활안전 제2공장           1\n",
       "에이스                    1\n",
       "에이치티씨 주식회사             1\n",
       "엘에치큐(LHQ)              1\n",
       "영도중기(지게차서비스)           1\n",
       "영진산업                   1\n",
       "제원정공                   1\n",
       "(주)매직워터                1\n",
       "주식회사 대봉이엔지             1\n",
       "주식회사 싸이콤               1\n",
       "주식회사 쏘울텍               1\n",
       "주식회사 씨엠에너지             1\n",
       "주식회사 엘엠디               1\n",
       "주식회사 엠제이테크             1\n",
       "주식회사 일비                1\n",
       "케이지모빌리티 주식회사           1\n",
       "신성델타테크(주)              1\n",
       "빅테크                    1\n",
       "부영이엔지                  1\n",
       "밀도베이커스                 1\n",
       "(주)써브                  1\n",
       "(주)용연산업                1\n",
       "(주)우생산업                1\n",
       "(주)이음기술                1\n",
       "(주)인큐넥스                1\n",
       "(주)제타                  1\n",
       "(주)케이프로텍               1\n",
       "(주)탑맥                  1\n",
       "(주)티유글로벌               1\n",
       "(주)하임슨제이와이코리아          1\n",
       "(주)한솔이엔지               1\n",
       "JSR실업                  1\n",
       "강남제비스코(주)              1\n",
       "경토판넬산업                 1\n",
       "꿈나무생산시설                1\n",
       "농업회사법인 (주)참미소          1\n",
       "농업회사법인 주식회사 우리밀에프엔비    1\n",
       "태림판지(주)                1\n",
       "Name: count, dtype: int64"
      ]
     },
     "execution_count": 41,
     "metadata": {},
     "output_type": "execute_result"
    }
   ],
   "source": [
    "pd.reset_option('display.max_rows', None)  # 행 제한 없음\n",
    "pd.reset_option('display.max_columns', None)  # 열 제한 없음\n",
    "\n",
    "g_100 = g_24_12[g_24_12['시군구명']=='평택시']\n",
    "a = g_100[g_100['종업원합계']==0]\n",
    "a = a.sort_values(by='회사명', ascending=True)\n",
    "a\n",
    "\n",
    "a['회사명'].value_counts()\n",
    "# print(g_100['공장관리번호'].nunique()) # 2438\n",
    "\n",
    "# # 중복 데이터 확인\n",
    "# duplicates = g_100[g_100.duplicated(subset='공장관리번호', keep=False)]\n",
    "# duplicates\n",
    "\n",
    "# # print(g_100.shape[0]) # 2439 - 2429\n",
    "\n",
    "# # # # # # # # 등록구분 컬럼 ' '공란 X\n",
    "# # # # # # print(g_104['등록구분'].value_counts())\n",
    "\n",
    "# # # # # # # # 중복된 회사명만 출력\n",
    "# pd.set_option('display.max_rows', None)  # 행 제한 없음\n",
    "# pd.set_option('display.max_columns', None)  # 열 제한 없음\n",
    "\n",
    "# print(g_100['회사명'].value_counts()[g_100['회사명'].value_counts() > 1]) # 144\n",
    "\n",
    "# # # # # # # # # 중복된 회사명 리스트 추출\n",
    "# g_100_d = g_100['회사명'].value_counts()[g_100['회사명'].value_counts() > 1].index\n",
    "\n",
    "# # # # # # # # # 중복된 회사명에 해당하는 데이터만 추출\n",
    "# result_100 = g_100[g_100['회사명'].isin(g_100_d)]\n",
    "# result_100 # 244\n",
    "\n",
    "# # # # # # # # # 같은 회사끼리 정렬\n",
    "# result_100 = result_100.sort_values(by='회사명', ascending=True)\n",
    "# result_100.to_excel('../../bigfile/평택시.xlsx')\n",
    "# result_100_1 = result_100[['회사명', '등록일', '전화번호', '대표업종', '보유구분']]\n",
    "# result_100_1.to_excel('../../bigfile/평택시분류.xlsx')"
   ]
  },
  {
   "cell_type": "markdown",
   "metadata": {},
   "source": [
    "공장관리번호에 대해 알아보자"
   ]
  },
  {
   "cell_type": "code",
   "execution_count": 19,
   "metadata": {},
   "outputs": [],
   "source": [
    "g_0116 = g_24_12.sort_values(by='공장관리번호', ascending=False)\n",
    "g_0116.to_excel('../../bigfile/공장관리번호_내림차순.xlsx')"
   ]
  },
  {
   "cell_type": "markdown",
   "metadata": {},
   "source": [
    "파주시 71개 삭제 필요"
   ]
  },
  {
   "cell_type": "code",
   "execution_count": 17,
   "metadata": {},
   "outputs": [
    {
     "data": {
      "text/plain": [
       "97400    등록변경\n",
       "97401    등록변경\n",
       "Name: 등록구분, dtype: object"
      ]
     },
     "execution_count": 17,
     "metadata": {},
     "output_type": "execute_result"
    }
   ],
   "source": [
    "g_121 = g_24_12[g_24_12['시군구명']=='파주시']\n",
    "# 공장관리번호가 겹치는?\n",
    "# print(g_121['공장관리번호'].nunique()) # 5134\n",
    "\n",
    "# 중복 데이터 확인\n",
    "# 두성종이(주)\n",
    "# duplicates = g_121[g_121.duplicated(subset='공장관리번호', keep=False)]\n",
    "# duplicates\n",
    "\n",
    "g_121[g_121['회사명']=='두성종이(주)']['등록구분']\n",
    "\n",
    "# # print(g_121.shape[0]) # 5135 - 5064\n",
    "# # print(5135 - 5064) # 71\n",
    "\n",
    "# # 등록구분 컬럼 ' '공란 X\n",
    "# # print(g_121['등록구분'].value_counts())\n",
    "\n",
    "# # # # # # # # # 중복된 회사명만 출력\n",
    "# print(g_121['회사명'].value_counts()[g_121['회사명'].value_counts() > 1])\n",
    "\n",
    "# pd.reset_option('display.max_rows', None)  # 행 제한 없음\n",
    "# pd.reset_option('display.max_columns', None)  # 열 제한 없음\n",
    "\n",
    "# # # # # # # # # # 중복된 회사명 리스트 추출\n",
    "# g_121_d = g_121['회사명'].value_counts()[g_121['회사명'].value_counts() > 1].index\n",
    "\n",
    "# # # # # # # # # # 중복된 회사명에 해당하는 데이터만 추출\n",
    "# result_121 = g_121[g_121['회사명'].isin(g_121_d)]\n",
    "# result_121 # 244\n",
    "\n",
    "# # 같은 회사끼리 정렬\n",
    "# result_121 = result_121.sort_values(by='회사명', ascending=True)\n",
    "# result_121.to_excel('../../bigfile/파주시.xlsx')\n",
    "# # result_100_1 = result_100[['회사명', '등록일', '전화번호', '대표업종', '보유구분']]\n",
    "# # result_100_1.to_excel('../../bigfile/평택시분류.xlsx')"
   ]
  },
  {
   "cell_type": "code",
   "execution_count": null,
   "metadata": {},
   "outputs": [],
   "source": []
  }
 ],
 "metadata": {
  "kernelspec": {
   "display_name": "base",
   "language": "python",
   "name": "python3"
  },
  "language_info": {
   "codemirror_mode": {
    "name": "ipython",
    "version": 3
   },
   "file_extension": ".py",
   "mimetype": "text/x-python",
   "name": "python",
   "nbconvert_exporter": "python",
   "pygments_lexer": "ipython3",
   "version": "3.11.7"
  }
 },
 "nbformat": 4,
 "nbformat_minor": 2
}
